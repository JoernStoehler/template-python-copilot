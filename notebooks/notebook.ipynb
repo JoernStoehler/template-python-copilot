{
 "cells": [
  {
   "cell_type": "markdown",
   "id": "a121d59b",
   "metadata": {},
   "source": [
    "# Example Notebook\n",
    "\n",
    "This notebook demonstrates how to use Jupyter notebooks effectively in this project template. It includes examples of:\n",
    "\n",
    "- Loading and configuring the project environment\n",
    "- Importing project modules\n",
    "- Basic data analysis workflow\n",
    "- Data visualization\n",
    "- Best practices for notebook organization"
   ]
  },
  {
   "cell_type": "markdown",
   "id": "0c2138cd",
   "metadata": {},
   "source": [
    "## Setup\n",
    "\n",
    "First, let's set up our environment and imports. We'll use the autoreload extension to automatically reload modules when they change."
   ]
  },
  {
   "cell_type": "code",
   "execution_count": null,
   "id": "875e553d",
   "metadata": {},
   "outputs": [],
   "source": [
    "# Standard library imports\n",
    "import os\n",
    "import sys\n",
    "from pathlib import Path\n",
    "\n",
    "# Add the parent directory to the path so we can import from src\n",
    "module_path = os.path.abspath(os.path.join('..'))\n",
    "if module_path not in sys.path:\n",
    "    sys.path.append(module_path)\n",
    "\n",
    "# Configure autoreload extension\n",
    "%load_ext autoreload\n",
    "%autoreload 2"
   ]
  },
  {
   "cell_type": "code",
   "execution_count": null,
   "id": "51da1d78",
   "metadata": {},
   "outputs": [],
   "source": [
    "# Third-party imports\n",
    "import matplotlib.pyplot as plt\n",
    "import numpy as np\n",
    "import pandas as pd\n",
    "\n",
    "# Project imports\n",
    "from src.main import load_config, process_data\n",
    "\n",
    "# Configure plotting\n",
    "%matplotlib inline\n",
    "plt.style.use(\"ggplot\")\n",
    "plt.rcParams[\"figure.figsize\"] = (10, 6)\n",
    "\n",
    "config = load_config(\"path/to/config/file\")"
   ]
  },
  {
   "cell_type": "markdown",
   "id": "0174cf59",
   "metadata": {},
   "source": [
    "## Loading Environment Variables and Configuration\n",
    "\n",
    "It's a good practice to load environment variables and configuration at the beginning of the notebook."
   ]
  },
  {
   "cell_type": "code",
   "execution_count": null,
   "id": "3bb8accc",
   "metadata": {},
   "outputs": [],
   "source": [
    "from dotenv import load_dotenv\n",
    "\n",
    "# Load environment variables from .env file\n",
    "load_dotenv()\n",
    "\n",
    "# Define data directories\n",
    "DATA_DIR = Path('../data')\n",
    "RAW_DATA_DIR = DATA_DIR / 'raw'\n",
    "PROCESSED_DATA_DIR = DATA_DIR / 'processed'\n",
    "SAVED_DATA_DIR = DATA_DIR / 'saved'\n",
    "\n",
    "print(f\"Raw data directory: {RAW_DATA_DIR}\")\n",
    "print(f\"Processed data directory: {PROCESSED_DATA_DIR}\")\n",
    "print(f\"Saved data directory: {SAVED_DATA_DIR}\")"
   ]
  },
  {
   "cell_type": "markdown",
   "id": "bfee78ea",
   "metadata": {},
   "source": [
    "## Generate Sample Data\n",
    "\n",
    "For this example, we'll generate some sample data to work with."
   ]
  },
  {
   "cell_type": "code",
   "execution_count": null,
   "id": "dba72073",
   "metadata": {},
   "outputs": [],
   "source": [
    "# Set random seed for reproducibility\n",
    "np.random.seed(42)\n",
    "\n",
    "# Generate sample time series data\n",
    "dates = pd.date_range('20220101', periods=100)\n",
    "values = np.cumsum(np.random.randn(100))\n",
    "\n",
    "# Create a DataFrame\n",
    "df = pd.DataFrame({\n",
    "    'date': dates,\n",
    "    'value': values,\n",
    "    'category': np.random.choice(['A', 'B', 'C'], size=100)\n",
    "})\n",
    "\n",
    "# Display the first few rows\n",
    "df.head()"
   ]
  },
  {
   "cell_type": "markdown",
   "id": "44f82c92",
   "metadata": {},
   "source": [
    "## Data Exploration\n",
    "\n",
    "Let's explore our sample data to understand its characteristics."
   ]
  },
  {
   "cell_type": "code",
   "execution_count": null,
   "id": "2b6a346d",
   "metadata": {},
   "outputs": [],
   "source": [
    "# Basic statistics\n",
    "df.describe()"
   ]
  },
  {
   "cell_type": "code",
   "execution_count": null,
   "id": "af27af90",
   "metadata": {},
   "outputs": [],
   "source": [
    "# Count values by category\n",
    "category_counts = df['category'].value_counts()\n",
    "print(category_counts)\n",
    "\n",
    "# Plot the distribution\n",
    "plt.figure(figsize=(8, 5))\n",
    "category_counts.plot(kind='bar')\n",
    "plt.title('Distribution of Categories')\n",
    "plt.xlabel('Category')\n",
    "plt.ylabel('Count')\n",
    "plt.xticks(rotation=0)\n",
    "plt.tight_layout()\n",
    "plt.show()"
   ]
  },
  {
   "cell_type": "markdown",
   "id": "8f3ff547",
   "metadata": {},
   "source": [
    "## Data Visualization\n",
    "\n",
    "Now let's visualize the time series data."
   ]
  },
  {
   "cell_type": "code",
   "execution_count": null,
   "id": "7791978d",
   "metadata": {},
   "outputs": [],
   "source": [
    "plt.figure(figsize=(12, 6))\n",
    "\n",
    "# Plot the time series\n",
    "plt.plot(df['date'], df['value'], marker='o', linestyle='-', markersize=3, alpha=0.7)\n",
    "\n",
    "# Customize the plot\n",
    "plt.title('Sample Time Series Data')\n",
    "plt.xlabel('Date')\n",
    "plt.ylabel('Value')\n",
    "plt.grid(True, alpha=0.3)\n",
    "\n",
    "# Add a trend line\n",
    "z = np.polyfit(range(len(df)), df['value'], 1)\n",
    "p = np.poly1d(z)\n",
    "plt.plot(df['date'], p(range(len(df))), \"r--\", alpha=0.8, label=f\"Trend: {z[0]:.4f}x + {z[1]:.4f}\")\n",
    "\n",
    "plt.legend()\n",
    "plt.tight_layout()\n",
    "plt.show()"
   ]
  },
  {
   "cell_type": "markdown",
   "id": "b52354df",
   "metadata": {},
   "source": [
    "## Using Project Functions\n",
    "\n",
    "We can also use functions from our project modules in the notebook."
   ]
  },
  {
   "cell_type": "code",
   "execution_count": null,
   "id": "32c9ee3f",
   "metadata": {},
   "outputs": [],
   "source": [
    "# Extract the values to process\n",
    "data_to_process = df['value'].tolist()\n",
    "\n",
    "# Use our project's process_data function\n",
    "processed_data = process_data(data_to_process, scale=2.0)\n",
    "\n",
    "# Compare original and processed data\n",
    "plt.figure(figsize=(12, 6))\n",
    "plt.plot(df['date'], data_to_process, label='Original Data', alpha=0.7)\n",
    "plt.plot(df['date'], processed_data, label='Processed Data (scale=2.0)', alpha=0.7)\n",
    "plt.title('Original vs Processed Data')\n",
    "plt.xlabel('Date')\n",
    "plt.ylabel('Value')\n",
    "plt.legend()\n",
    "plt.grid(True, alpha=0.3)\n",
    "plt.tight_layout()\n",
    "plt.show()"
   ]
  },
  {
   "cell_type": "markdown",
   "id": "6e8608eb",
   "metadata": {},
   "source": [
    "## Saving Results\n",
    "\n",
    "Finally, let's save our processed data and results."
   ]
  },
  {
   "cell_type": "code",
   "execution_count": null,
   "id": "a1043e9a",
   "metadata": {},
   "outputs": [],
   "source": [
    "# Create a new DataFrame with the processed data\n",
    "results_df = df.copy()\n",
    "results_df['processed_value'] = processed_data\n",
    "\n",
    "# Calculate some additional metrics\n",
    "results_df['diff'] = results_df['processed_value'] - results_df['value']\n",
    "results_df['pct_change'] = results_df['processed_value'].pct_change()\n",
    "\n",
    "# Display the results\n",
    "results_df.head()"
   ]
  },
  {
   "cell_type": "code",
   "execution_count": null,
   "id": "8b75038e",
   "metadata": {},
   "outputs": [],
   "source": [
    "# Save the results to a CSV file\n",
    "output_path = SAVED_DATA_DIR / 'notebook_results.csv'\n",
    "results_df.to_csv(output_path, index=False)\n",
    "print(f\"Results saved to {output_path}\")"
   ]
  },
  {
   "cell_type": "markdown",
   "id": "2ba99793",
   "metadata": {},
   "source": [
    "## Conclusion\n",
    "\n",
    "This notebook demonstrated:\n",
    "\n",
    "1. Setting up the notebook environment for the project\n",
    "2. Loading configuration and environment variables\n",
    "3. Data generation, exploration and visualization\n",
    "4. Using project functions in the notebook\n",
    "5. Saving results for further processing\n",
    "\n",
    "For more advanced examples, check out the other notebooks in this project."
   ]
  }
 ],
 "metadata": {
  "language_info": {
   "name": "python"
  }
 },
 "nbformat": 4,
 "nbformat_minor": 5
}
